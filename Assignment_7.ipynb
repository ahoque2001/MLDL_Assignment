{
  "nbformat": 4,
  "nbformat_minor": 0,
  "metadata": {
    "colab": {
      "name": "Assignment 7.ipynb",
      "provenance": [],
      "collapsed_sections": [],
      "authorship_tag": "ABX9TyMvs4p3PiKeH3T7mGT6NQvj",
      "include_colab_link": true
    },
    "kernelspec": {
      "name": "python3",
      "display_name": "Python 3"
    },
    "language_info": {
      "name": "python"
    }
  },
  "cells": [
    {
      "cell_type": "markdown",
      "metadata": {
        "id": "view-in-github",
        "colab_type": "text"
      },
      "source": [
        "<a href=\"https://colab.research.google.com/github/ahoque2001/MLDL_Assignment/blob/main/Assignment_7.ipynb\" target=\"_parent\"><img src=\"https://colab.research.google.com/assets/colab-badge.svg\" alt=\"Open In Colab\"/></a>"
      ]
    },
    {
      "cell_type": "markdown",
      "metadata": {
        "id": "_5cKo-9sqmUN"
      },
      "source": [
        "Write a function so that the columns of the output matrix are powers of the input\n",
        "vector.\n",
        "The order of the powers is determined by the increasing boolean argument. Specifically, when\n",
        "increasing is False, the i-th output column is the input vector raised element-wise to the power\n",
        "of N - i - 1.\n",
        "\n",
        "HINT: Such a matrix with a geometric progression in each row is named for Alexandre-\n",
        "Theophile Vandermonde.\n",
        "\n"
      ]
    },
    {
      "cell_type": "code",
      "metadata": {
        "id": "Xq9KbWAjO-02"
      },
      "source": [
        "import numpy as np\n"
      ],
      "execution_count": 62,
      "outputs": []
    },
    {
      "cell_type": "code",
      "metadata": {
        "colab": {
          "base_uri": "https://localhost:8080/"
        },
        "id": "zRj4RNCPRetN",
        "outputId": "3db7f622-4a80-49c8-8566-7fe30d079538"
      },
      "source": [
        "x = np.array([1, 2, 3, 5])\n",
        "N = 3\n",
        "np.column_stack([x**(N-1-i) for i in range(N)])"
      ],
      "execution_count": 80,
      "outputs": [
        {
          "output_type": "execute_result",
          "data": {
            "text/plain": [
              "array([[ 1,  1,  1],\n",
              "       [ 4,  2,  1],\n",
              "       [ 9,  3,  1],\n",
              "       [25,  5,  1]])"
            ]
          },
          "metadata": {},
          "execution_count": 80
        }
      ]
    },
    {
      "cell_type": "markdown",
      "metadata": {
        "id": "1Wa93basqvu2"
      },
      "source": [
        "# Problem Statement 2:\n",
        "### Given a sequence of n values x1, x2, ..., xn and a window size k>0, the k-th moving average of the given sequence is defined as follows: The moving average sequence has n-k+1 elements as shown below. \n",
        "### The moving averages with k=4 of a ten-value sequence (n=10) is shown below\n",
        "### i 1 2 3 4 5 6 7 8 9 10\n",
        "===== == == == == == == == == == ==\n",
        "### Input 10 20 30 40 50 60 70 80 90 100\n",
        "### y1 25 = (10+20+30+40)/4\n",
        "### y2 35 = (20+30+40+50)/4\n",
        "### y3 45 = (30+40+50+60)/4\n",
        "### y4 55 = (40+50+60+70)/4\n",
        "### y5 65 = (50+60+70+80)/4\n",
        "### y6 75 = (60+70+80+90)/4\n",
        "### y7 85 = (70+80+90+100)/4\n",
        "### Thus, the moving average sequence has n-k+1=10-4+1=7 values.\n",
        "\n",
        "\n",
        "\n",
        "## Question: \n",
        "Write a function to find moving average in an array over a window:\n",
        "Test it over [3, 5, 7, 2, 8, 10, 11, 65, 72, 81, 99, 100, 150] and window of 3."
      ]
    },
    {
      "cell_type": "code",
      "metadata": {
        "colab": {
          "base_uri": "https://localhost:8080/"
        },
        "id": "0dWU7G4wRnXj",
        "outputId": "37be3608-cc54-4c7f-dbd8-96c2d50dd9d7"
      },
      "source": [
        "\n",
        "def moving_average(str1,k):\n",
        "  x=[]\n",
        "  y=[]\n",
        "  j=0\n",
        "  n=len(str1)\n",
        "  for i in range(0, len(str1)):\n",
        "    if len(str1[j :  j+k ])==k:\n",
        "     x.append(str1[j :  j+k ])\n",
        "     y.append(np.sum(str1[j :  j+k ])/k)\n",
        "    j=j+1\n",
        "  print(x)\n",
        "  print(y)\n",
        "  print(\"The moving agerage:\",n-k+1)\n",
        "\n",
        "moving_average([3, 5, 7, 2, 8, 10, 11, 65, 72, 81, 99, 100, 150],3)\n"
      ],
      "execution_count": 81,
      "outputs": [
        {
          "output_type": "stream",
          "name": "stdout",
          "text": [
            "[[3, 5, 7], [5, 7, 2], [7, 2, 8], [2, 8, 10], [8, 10, 11], [10, 11, 65], [11, 65, 72], [65, 72, 81], [72, 81, 99], [81, 99, 100], [99, 100, 150]]\n",
            "[5.0, 4.666666666666667, 5.666666666666667, 6.666666666666667, 9.666666666666666, 28.666666666666668, 49.333333333333336, 72.66666666666667, 84.0, 93.33333333333333, 116.33333333333333]\n",
            "The moving agerage: 11\n"
          ]
        }
      ]
    },
    {
      "cell_type": "code",
      "metadata": {
        "id": "NH77NMooinjw"
      },
      "source": [
        ""
      ],
      "execution_count": 59,
      "outputs": []
    },
    {
      "cell_type": "code",
      "metadata": {
        "id": "VnjAKUnkTIP_"
      },
      "source": [
        "\n"
      ],
      "execution_count": null,
      "outputs": []
    }
  ]
}