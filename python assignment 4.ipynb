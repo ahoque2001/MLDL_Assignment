{
 "cells": [
  {
   "cell_type": "markdown",
   "metadata": {},
   "source": [
    "# 1.1 Write a Python Program(with class concepts) to find the area of the triangle using the below formula. \n",
    "# area = (s*(s-a)*(s-b)*(s-c)) ** 0.5 \n",
    "# Function to take the length of the sides of triangle from user should be defined in the parent class and function to calculate the area should be defined in subclass."
   ]
  },
  {
   "cell_type": "code",
   "execution_count": 3,
   "metadata": {},
   "outputs": [
    {
     "name": "stdin",
     "output_type": "stream",
     "text": [
      "a =  3\n",
      "b =  4\n",
      "c =  5\n"
     ]
    },
    {
     "name": "stdout",
     "output_type": "stream",
     "text": [
      "area : 6.0\n"
     ]
    }
   ],
   "source": [
    "class tr_cal:\n",
    "    def __init__(self, a, b, c):\n",
    "        self.a = float(a)\n",
    "        self.b = float(b)\n",
    "        self.c = float(c)\n",
    "        self.area = 0\n",
    "\n",
    "class triangle(tr_cal):\n",
    "    def __init__(self, a, b, c):\n",
    "        tr_cal.__init__(self, a, b, c)\n",
    "\n",
    "    def calculate_area(self):\n",
    "        s = (self.a + self.b + self.c) / 2\n",
    "        self.area = float((s * (s - self.a) * (s - self.b) * (s - self.c))) ** 0.5\n",
    "\n",
    "    def get_area(self):\n",
    "        return self.area     \n",
    "\n",
    "a, b, c = input(\"a = \"), input(\"b = \"), input(\"c = \")\n",
    "\n",
    "t = triangle(a, b, c)\n",
    "t.calculate_area()\n",
    "print(\"area : {}\".format(t.get_area()))"
   ]
  },
  {
   "cell_type": "markdown",
   "metadata": {},
   "source": [
    "# 1.2 Write a function filter_long_words() that takes a list of words and an integer n and returns the list of words that are longer than n."
   ]
  },
  {
   "cell_type": "code",
   "execution_count": 36,
   "metadata": {},
   "outputs": [],
   "source": [
    "def filter_long_words(*args,n) :\n",
    "    con = []\n",
    "    for i in args:\n",
    "        if type(i) == list :\n",
    "            for j in i :\n",
    "                if type(j)== str and len(j)>n :\n",
    "                    con.append(j)\n",
    "    return con\n",
    "    \n",
    "    "
   ]
  },
  {
   "cell_type": "code",
   "execution_count": 41,
   "metadata": {},
   "outputs": [
    {
     "data": {
      "text/plain": [
       "['come', 'mobile', 'powder', 'kumar', 'bottles']"
      ]
     },
     "execution_count": 41,
     "metadata": {},
     "output_type": "execute_result"
    }
   ],
   "source": [
    "filter_long_words([4,\"cat\",\"Pen\",5,6,\"come\",7,8,9,\"mobile\" , \"powder\" , \"kumar\",\"bottles\" , [3,4,5,7]],n=3)"
   ]
  },
  {
   "cell_type": "markdown",
   "metadata": {},
   "source": [
    "# 2.1 Write a Python program using function concept that maps list of words into a list of integers representing the lengths of the corresponding words. \n",
    "# Hint: If a list [ ab,cde,erty] is passed on to the python function \n",
    "# output should come as [2,3,4] Here 2,3 and 4 are the lengths of the words in the list."
   ]
  },
  {
   "cell_type": "code",
   "execution_count": 42,
   "metadata": {},
   "outputs": [],
   "source": [
    "def word_int_func(*args):\n",
    "    i_int = []\n",
    "    for i in args:\n",
    "        if type(i) == list :\n",
    "            for j in i :\n",
    "                if type(j)== str:\n",
    "                    i_int.append(len(j))\n",
    "    return i_int\n",
    "        "
   ]
  },
  {
   "cell_type": "code",
   "execution_count": 43,
   "metadata": {},
   "outputs": [
    {
     "data": {
      "text/plain": [
       "[3, 3, 4, 6, 12]"
      ]
     },
     "execution_count": 43,
     "metadata": {},
     "output_type": "execute_result"
    }
   ],
   "source": [
    "word_int_func([\"cat\",\"bat\",\"come\",\"mobile\",\"cricket play\",1,2,3])"
   ]
  },
  {
   "cell_type": "markdown",
   "metadata": {},
   "source": [
    "# 2.2 Write a Python function which takes a character (i.e. a string of length 1) and returns True if it is a vowel, False otherwise."
   ]
  },
  {
   "cell_type": "code",
   "execution_count": null,
   "metadata": {},
   "outputs": [],
   "source": []
  },
  {
   "cell_type": "code",
   "execution_count": 57,
   "metadata": {},
   "outputs": [],
   "source": [
    "def vowel_checker(c):\n",
    "    size = len(c)\n",
    "    if size>1:\n",
    "        print(\"\\nInvalid Input!\")\n",
    "    else:\n",
    "        if (c>='a' and c<='z') or (c>='A' and c<='Z'):\n",
    "            vowels = ['a', 'e', 'i', 'o', 'u', 'A', 'E', 'I', 'O', 'U']\n",
    "            if c in vowels:\n",
    "                print(\"\\n\\\"\" +c+ \"\\\" is a Vowel\")\n",
    "            else:\n",
    "                print(\"\\n\\\"\" +c+ \"\\\" is a Consonant\")\n",
    "        else:\n",
    "            print(\"\\n\\\"\" +c+ \"\\\" is neither a Vowel nor a Consonant\")"
   ]
  },
  {
   "cell_type": "code",
   "execution_count": 63,
   "metadata": {},
   "outputs": [
    {
     "name": "stdout",
     "output_type": "stream",
     "text": [
      "\n",
      "\"a\" is a Vowel\n"
     ]
    }
   ],
   "source": [
    "vowel_checker('a')"
   ]
  },
  {
   "cell_type": "code",
   "execution_count": null,
   "metadata": {},
   "outputs": [],
   "source": []
  }
 ],
 "metadata": {
  "kernelspec": {
   "display_name": "Python 3",
   "language": "python",
   "name": "python3"
  },
  "language_info": {
   "codemirror_mode": {
    "name": "ipython",
    "version": 3
   },
   "file_extension": ".py",
   "mimetype": "text/x-python",
   "name": "python",
   "nbconvert_exporter": "python",
   "pygments_lexer": "ipython3",
   "version": "3.8.3"
  }
 },
 "nbformat": 4,
 "nbformat_minor": 4
}
