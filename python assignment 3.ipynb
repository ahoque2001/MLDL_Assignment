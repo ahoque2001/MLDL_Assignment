{
 "cells": [
  {
   "cell_type": "markdown",
   "metadata": {},
   "source": [
    "# 1.1 Write a Python Program to implement your own myreduce() function which works exactly like Python's built-in function reduce()"
   ]
  },
  {
   "cell_type": "code",
   "execution_count": 1,
   "metadata": {},
   "outputs": [],
   "source": [
    "def myreduce(func, iterable, initial_val=None):\n",
    "    it = iter(iterable)\n",
    "    if initial_val is None:\n",
    "        value = next(it)\n",
    "    else:\n",
    "        value = initial_val\n",
    "    for element in it:\n",
    "        value = func(value, element)\n",
    "    return value"
   ]
  },
  {
   "cell_type": "code",
   "execution_count": 2,
   "metadata": {},
   "outputs": [],
   "source": [
    "# Addition\n",
    "\n",
    "def my_summ(a, b):\n",
    "    result = a + b\n",
    "    return result\n",
    "\n",
    "# Multiplication\n",
    "\n",
    "def my_prod(a, b):\n",
    "    result = a * b\n",
    "    return result\n",
    "\n",
    "# Minimum\n",
    "\n",
    "def my_min(a, b):\n",
    "     return a if a < b else b\n",
    "\n",
    "# Maximum\n",
    "\n",
    "def my_max(a, b):\n",
    "    return a if a > b else b\n",
    "\n"
   ]
  },
  {
   "cell_type": "code",
   "execution_count": 12,
   "metadata": {},
   "outputs": [
    {
     "name": "stdout",
     "output_type": "stream",
     "text": [
      "5\n",
      "120\n",
      "1\n",
      "15\n"
     ]
    }
   ],
   "source": [
    "l=[1,2,3,4,5]\n",
    "print(myreduce(my_max,l))\n",
    "print(myreduce(my_prod,l))\n",
    "print(myreduce(my_min,l))\n",
    "print(myreduce(my_summ,l))"
   ]
  },
  {
   "cell_type": "markdown",
   "metadata": {},
   "source": [
    "# 1.2 Write a Python program to implement your own myfilter() function which works exactly like Python's built-in function filter()"
   ]
  },
  {
   "cell_type": "code",
   "execution_count": 4,
   "metadata": {},
   "outputs": [],
   "source": [
    "def myfilter(func, iterable):\n",
    "    l=[]\n",
    "    for i in iterable:\n",
    "        x = func(i)\n",
    "        if x!=None :\n",
    "            l.append(x)\n",
    "    return l"
   ]
  },
  {
   "cell_type": "code",
   "execution_count": 5,
   "metadata": {},
   "outputs": [],
   "source": [
    "l=[-6,1,2,3,4,5,-1,-4,0,'asdf',None,'',[]]\n",
    "\n",
    "def extract_positive(n):\n",
    "    if type(n)==int:\n",
    "        if n >= 0 :\n",
    "            return n\n",
    "    elif type(n)==str :\n",
    "         pass\n",
    "\n",
    "def extract_even(number):\n",
    "    if type(number)==int:\n",
    "        if number % 2 == 0:  # Filtering condition\n",
    "            return number\n",
    "    elif type(number)==str :\n",
    "         pass  \n",
    "\n",
    "def extract_odd(number):\n",
    "    if type(number)==int:\n",
    "        if number % 2 != 0:  # Filtering condition\n",
    "            return number\n",
    "    elif type(number)==str :\n",
    "         pass"
   ]
  },
  {
   "cell_type": "code",
   "execution_count": 14,
   "metadata": {},
   "outputs": [
    {
     "name": "stdout",
     "output_type": "stream",
     "text": [
      "[1, 2, 3, 4, 5]\n",
      "[2, 4]\n",
      "[1, 3, 5]\n"
     ]
    }
   ],
   "source": [
    "print(myfilter(extract_positive, l))\n",
    "print(myfilter(extract_even, l))\n",
    "print(myfilter(extract_odd, l))"
   ]
  },
  {
   "cell_type": "markdown",
   "metadata": {},
   "source": [
    "# Implement List comprehensions to produce the following lists. Write List comprehensions to produce the following Lists\n",
    "['x', 'xx', 'xxx', 'xxxx', 'y', 'yy', 'yyy', 'yyyy', 'z', 'zz', 'zzz', 'zzzz']\n",
    "\n",
    "['x', 'y', 'z', 'xx', 'yy', 'zz', 'xxx', 'yyy', 'zzz', 'xxxx', 'yyyy', 'zzzz']\n",
    "\n",
    "[[2], [3], [4], [3], [4], [5], [4], [5], [6]] [[2, 3, 4, 5], [3, 4, 5, 6], [4, 5, 6, 7], [5, 6, 7, 8]]\n",
    "\n",
    "[(1, 1), (2, 1), (3, 1), (1, 2), (2, 2), (3, 2), (1, 3), (2, 3), (3, 3)]"
   ]
  },
  {
   "cell_type": "code",
   "execution_count": 15,
   "metadata": {},
   "outputs": [
    {
     "data": {
      "text/plain": [
       "['x', 'xx', 'xxx', 'xxxx', 'y', 'yy', 'yyy', 'yyyy', 'z', 'zz', 'zzz', 'zzzz']"
      ]
     },
     "execution_count": 15,
     "metadata": {},
     "output_type": "execute_result"
    }
   ],
   "source": [
    "s = ['x','y','z']\n",
    "\n",
    "[x for i in s for x in (i,i+i,i+i+i,i+i+i+i)]"
   ]
  },
  {
   "cell_type": "code",
   "execution_count": 17,
   "metadata": {},
   "outputs": [
    {
     "data": {
      "text/plain": [
       "['x', 'y', 'z', 'xx', 'yy', 'zz', 'xxx', 'yyy', 'zzz', 'xxxx', 'yyyy', 'zzzz']"
      ]
     },
     "execution_count": 17,
     "metadata": {},
     "output_type": "execute_result"
    }
   ],
   "source": [
    "s = ['x','y','z']\n",
    "v,u,w,y = [],[],[],[]\n",
    "[x for i in s for x in (v.append(i),u.append(i+i),w.append(i+i+i),y.append(i+i+i+i))]\n",
    "v+u+w+y"
   ]
  },
  {
   "cell_type": "code",
   "execution_count": 18,
   "metadata": {},
   "outputs": [
    {
     "name": "stdout",
     "output_type": "stream",
     "text": [
      "[[2], [3], [4], [3], [4], [5], [4], [5], [6]] [[2, 3, 4, 5], [3, 4, 5, 6], [4, 5, 6, 7], [5, 6, 7, 8]]\n"
     ]
    }
   ],
   "source": [
    "x1=[x for i in range(2,5) for x in ([i],[i+1],[i+2])]\n",
    "x2=[x for i in range(2,6) for x in ([[i,i+1,i+2,i+3]])]\n",
    "print(x1,x2)"
   ]
  },
  {
   "cell_type": "code",
   "execution_count": 19,
   "metadata": {},
   "outputs": [
    {
     "data": {
      "text/plain": [
       "[(1, 1), (2, 1), (3, 1), (1, 2), (2, 2), (3, 2), (1, 3), (2, 3), (3, 3)]"
      ]
     },
     "execution_count": 19,
     "metadata": {},
     "output_type": "execute_result"
    }
   ],
   "source": [
    "[x for i in range(1,4) for j in range(1,4) for x in [(j,i)]]"
   ]
  },
  {
   "cell_type": "code",
   "execution_count": null,
   "metadata": {},
   "outputs": [],
   "source": []
  },
  {
   "cell_type": "code",
   "execution_count": null,
   "metadata": {},
   "outputs": [],
   "source": []
  },
  {
   "cell_type": "code",
   "execution_count": null,
   "metadata": {},
   "outputs": [],
   "source": []
  },
  {
   "cell_type": "code",
   "execution_count": null,
   "metadata": {},
   "outputs": [],
   "source": []
  }
 ],
 "metadata": {
  "kernelspec": {
   "display_name": "Python 3",
   "language": "python",
   "name": "python3"
  },
  "language_info": {
   "codemirror_mode": {
    "name": "ipython",
    "version": 3
   },
   "file_extension": ".py",
   "mimetype": "text/x-python",
   "name": "python",
   "nbconvert_exporter": "python",
   "pygments_lexer": "ipython3",
   "version": "3.8.3"
  }
 },
 "nbformat": 4,
 "nbformat_minor": 4
}
